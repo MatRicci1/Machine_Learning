{
  "nbformat": 4,
  "nbformat_minor": 0,
  "metadata": {
    "orig_nbformat": 2,
    "colab": {
      "name": "KNN_Cancer_Diagnosis.ipynb",
      "provenance": [],
      "collapsed_sections": []
    },
    "kernelspec": {
      "name": "python3",
      "display_name": "Python 3"
    }
  },
  "cells": [
    {
      "cell_type": "markdown",
      "metadata": {
        "id": "gcehWRCsL2gD"
      },
      "source": [
        ""
      ]
    },
    {
      "cell_type": "markdown",
      "metadata": {
        "id": "epNPqv26q4S3"
      },
      "source": [
        "# ROB311 - Machine Learning for Robotics\r\n",
        "## TP1 - KNN \r\n",
        "### Cancer Diagnosis Prediction\r\n",
        "\r\n",
        "Mateus Lopes Ricci \r\n",
        "\r\n",
        "Matheus Melo Monteverde\r\n"
      ]
    },
    {
      "cell_type": "markdown",
      "metadata": {
        "id": "8Of3zKKbOHyr"
      },
      "source": [
        "# Functions"
      ]
    },
    {
      "cell_type": "markdown",
      "metadata": {
        "id": "LbkFDitaOFL6"
      },
      "source": [
        "## Import"
      ]
    },
    {
      "cell_type": "code",
      "metadata": {
        "id": "ZK9FmwWCJra_"
      },
      "source": [
        "import numpy as np\n",
        "import pandas as pd\n",
        "import random\n",
        "import warnings\n",
        "from mpl_toolkits.mplot3d import Axes3D\n",
        "from collections import Counter\n",
        "import matplotlib.pyplot as plt\n",
        "from matplotlib import style\n",
        "from copy import deepcopy\n",
        "style.use('fivethirtyeight')"
      ],
      "execution_count": 27,
      "outputs": []
    },
    {
      "cell_type": "markdown",
      "metadata": {
        "id": "8fPXB8XANObA"
      },
      "source": [
        "## Reading data"
      ]
    },
    {
      "cell_type": "code",
      "metadata": {
        "id": "HGVHIWt1JrbE"
      },
      "source": [
        "def read_Haberman(name):\n",
        "    df = pd.read_csv(name)\n",
        "    #df.drop(['A'], 1, inplace=True)    \n",
        "    #df.drop(['YO'], 1, inplace=True)\n",
        "    full_data = df.astype(float).values.tolist()\n",
        "    empty_set= {1:[], 2:[]}                                    # Declaration of empty dictionary\n",
        "\n",
        "    return full_data, empty_set\n",
        "\n",
        "def read_BCW(name):\n",
        "    df = pd.read_csv(name)\n",
        "    ### Read o file with data of Breast Cancer and replace missing data so that it does not interfear in the KNN\n",
        "    df.replace('?',-99999,inplace=True)\n",
        "    df.drop(['ID'], 1, inplace=True)\n",
        "    full_data = df.astype(float).values.tolist()\n",
        "    empty_set= {2:[], 4:[]}                                    # Declaration of empty dictionary\n",
        "    \n",
        "    return full_data, empty_set"
      ],
      "execution_count": 28,
      "outputs": []
    },
    {
      "cell_type": "markdown",
      "metadata": {
        "id": "HKcChkDuNWaN"
      },
      "source": [
        "## Dataset transformation"
      ]
    },
    {
      "cell_type": "code",
      "metadata": {
        "id": "OOQdxP3XJrbG"
      },
      "source": [
        "def dataset(full_data, empty_set, test_size):\n",
        "    random.shuffle(full_data)                                   # Shuffle data \n",
        "    train_data = full_data[:-int(test_size*len(full_data))]     # Attribute of (1 - test_size) of full data for training  \n",
        "    test_data = full_data[-int(test_size*len(full_data)):]      # Attribute (test_size) of full data for testing\n",
        "    train_set = deepcopy(empty_set)                               # Declaration of dictionary for training set\n",
        "    test_set = deepcopy(empty_set)                                # Declaration of dictionary for testing set  \n",
        "\n",
        "    ### Fill training dictionary with data\n",
        "    for i in train_data:\n",
        "        train_set[i[-1]].append(i[:-1])                         \n",
        "\n",
        "    ### Fill testing dictionary with data\n",
        "    for i in test_data:\n",
        "            test_set[i[-1]].append(i[:-1]) \n",
        "\n",
        "    return train_set, test_set "
      ],
      "execution_count": 29,
      "outputs": []
    },
    {
      "cell_type": "markdown",
      "metadata": {
        "id": "6qRGwz9ONsLA"
      },
      "source": [
        "## KNN Algorithm"
      ]
    },
    {
      "cell_type": "code",
      "metadata": {
        "id": "rX4gQBIMJrbI"
      },
      "source": [
        "def KNN(data,predict,k=3):\n",
        "    if len(data) >= k:\n",
        "        warning.warn('K is lower than data!') \n",
        "\n",
        "    distances = []\n",
        "\n",
        "    for Class in data:\n",
        "        for features in data[Class]:\n",
        "            euc_distance = np.linalg.norm(np.array(features) - np.array(predict))\n",
        "            distances.append([euc_distance,Class])\n",
        "\n",
        "    votes = [i[1] for i in sorted(distances)[:k]]\n",
        "\n",
        "    result = Counter(votes).most_common(1)[0][0]\n",
        "    \n",
        "    return result"
      ],
      "execution_count": 30,
      "outputs": []
    },
    {
      "cell_type": "markdown",
      "metadata": {
        "id": "qexkwgSPNv-e"
      },
      "source": [
        "## Accuracies Calculation"
      ]
    },
    {
      "cell_type": "code",
      "metadata": {
        "id": "jodnjKb8JrbJ"
      },
      "source": [
        "def accuracy_KNN(train_set, test_set):\n",
        "    \n",
        "    ### Declaration of auxiliary variables\n",
        "    correct = 0\n",
        "    total = 0\n",
        "    tp = 0\n",
        "    tn = 0\n",
        "    fp = 0\n",
        "    fn = 0\n",
        "    \n",
        "    ### Prediction and Validation of results of KNN function with real results\n",
        "    for Class in test_set:\n",
        "        for test_data in test_set[Class]:\n",
        "            \n",
        "            result = KNN(train_set, test_data, k=5)\n",
        "            \n",
        "            ### Calculation of true Positives\n",
        "            if Class == result and Class == 1:\n",
        "                tp += 1\n",
        "                correct += 1\n",
        "\n",
        "            ### Calculation of true Negatives    \n",
        "            elif Class == result and Class == 2:\n",
        "                tn += 1\n",
        "                correct += 1\n",
        "\n",
        "            ### Calculation of false Positives        \n",
        "            elif Class != result and Class == 1:\n",
        "                fp += 1\n",
        "\n",
        "            ### Calculation of false Negatives    \n",
        "            elif Class != result and Class == 2:\n",
        "                fn += 1   \n",
        "\n",
        "            total += 1\n",
        "\n",
        "    return total, correct, tp, tn, fp, fn\n",
        "\n",
        "def accuracies_KNN(full_data, empty_set, test_size, N):\n",
        "\n",
        "    ### Declaration of Vectors to be utilized \n",
        "    accuracies = []                                                 # Vector of accuracy of each training with different shuffle\n",
        "    tps = []                                                        # Vector rate of true positives of each training with different shuffle \n",
        "    tns = []                                                        # Vector rate of true negatives of each training with different shuffle\n",
        "    fps = []                                                        # Vector rate of false positives of each training with different shuffle\n",
        "    fns = []                                                        # Vector rate of false negatives of each training with different shuffle\n",
        "\n",
        "    ### Perform KNN N times\n",
        "    for j in range(N):\n",
        "        \n",
        "        ### Fill dataset\n",
        "        train_set, test_set = dataset(full_data, empty_set, test_size)\n",
        "        \n",
        "        ### Get accuracies \n",
        "        total, correct, tp, tn, fp, fn = accuracy_KNN(train_set, test_set)\n",
        "\n",
        "        print(j+1,'/',N,'Accuracy: ',correct/total)\n",
        "        accuracies.append(correct/total)                            # Fill vector of accuracy of each training with current shuffle\n",
        "        tps.append(tp/total)                                        # Fill vector rate of true positives of each training with current shuffle    \n",
        "        tns.append(tn/total)                                        # Fill vector rate of true negatives of each training with current shuffle\n",
        "        fps.append(fp/total)                                        # Fill vector rate of false positives of each training with current shuffle\n",
        "        fns.append(fn/total)                                        # Fill vector rate of false negatives of each training with current shuffle\n",
        "\n",
        "    return accuracies, tps, tns, fps, fns"
      ],
      "execution_count": 31,
      "outputs": []
    },
    {
      "cell_type": "markdown",
      "metadata": {
        "id": "56-Y-z3nN1d6"
      },
      "source": [
        "## Results"
      ]
    },
    {
      "cell_type": "code",
      "metadata": {
        "id": "jK_Gv07SJrbN"
      },
      "source": [
        "def Results(accuracies,tps,tns,fps,fns):\n",
        "    ### Printing Results\n",
        "    print('\\nMean Accuracy: ',sum(accuracies)/len(accuracies))\n",
        "    print('Standard Deviation: ',np.std(accuracies))\n",
        "    print(\"True Positive: \", sum(tps)/len(tps))\n",
        "    print(\"True Negative: \", sum(tns)/len(tns))\n",
        "    print(\"False Positive: \", sum(fps)/len(fps))\n",
        "    print(\"False Negative: \", sum(fns)/len(fns))\n",
        "\n",
        "def Plot_KNN(dataset):\n",
        "    ### Plot\n",
        "    fig = plt.figure()\n",
        "    ax = fig.add_subplot(111, projection='3d')\n",
        "\n",
        "    for i in dataset:\n",
        "        for ii in dataset[i]: \n",
        "            if i == 1:\n",
        "                ax.scatter(ii[0],ii[1],ii[2], s=100,  color = 'k', marker='o')\n",
        "\n",
        "            else:\n",
        "                ax.scatter(ii[0],ii[1],ii[2], s=100,  color = 'r', marker='o'   )\n",
        "\n",
        "    ax.set_xlabel('Age')\n",
        "    ax.set_ylabel('Year of Operation')\n",
        "    ax.set_zlabel('Number of Positive Axillary Nodes')\n",
        "                \n",
        "    plt.show()"
      ],
      "execution_count": 32,
      "outputs": []
    },
    {
      "cell_type": "markdown",
      "metadata": {
        "id": "zAYc7AbiN799"
      },
      "source": [
        "# Main"
      ]
    },
    {
      "cell_type": "code",
      "metadata": {
        "colab": {
          "base_uri": "https://localhost:8080/"
        },
        "id": "yj5NSvY6JrbP",
        "outputId": "0ef522ac-7e61-4570-ff31-ff3b6b1bfd26"
      },
      "source": [
        "### Haberman\n",
        "full_data, empty_set = read_Haberman('datasets/haberman.data')\n",
        "\n",
        "### Wisconsin\n",
        "#full_data, empty_set = read_BCW('datasets/breast-cancer-wisconsin.data')\n",
        "\n",
        "### Parameters of the analysis\n",
        "test_size = 0.2                                                 # Proportion of the samples utilized for test\n",
        "N = 20                                                         # Numbers of trainings executed through different data shuffle\n",
        "\n",
        "### Get accuracies from N KNN evaluations\n",
        "accuracies, tps, tns, fps, fns = accuracies_KNN(full_data, empty_set, test_size, N)\n",
        "\n",
        "### Print Results\n",
        "Results(accuracies,tps,tns,fps,fns)\n"
      ],
      "execution_count": 33,
      "outputs": [
        {
          "output_type": "stream",
          "text": [
            "1 / 20 Accuracy:  0.7704918032786885\n",
            "2 / 20 Accuracy:  0.7213114754098361\n",
            "3 / 20 Accuracy:  0.7213114754098361\n",
            "4 / 20 Accuracy:  0.7049180327868853\n",
            "5 / 20 Accuracy:  0.6721311475409836\n",
            "6 / 20 Accuracy:  0.6557377049180327\n",
            "7 / 20 Accuracy:  0.639344262295082\n",
            "8 / 20 Accuracy:  0.7704918032786885\n",
            "9 / 20 Accuracy:  0.7213114754098361\n",
            "10 / 20 Accuracy:  0.7049180327868853\n",
            "11 / 20 Accuracy:  0.6721311475409836\n",
            "12 / 20 Accuracy:  0.7868852459016393\n",
            "13 / 20 Accuracy:  0.7540983606557377\n",
            "14 / 20 Accuracy:  0.7377049180327869\n",
            "15 / 20 Accuracy:  0.7213114754098361\n",
            "16 / 20 Accuracy:  0.7049180327868853\n",
            "17 / 20 Accuracy:  0.7377049180327869\n",
            "18 / 20 Accuracy:  0.7704918032786885\n",
            "19 / 20 Accuracy:  0.639344262295082\n",
            "20 / 20 Accuracy:  0.7213114754098361\n",
            "\n",
            "Mean Accuracy:  0.7163934426229507\n",
            "Standard Deviation:  0.04246502900652006\n",
            "True Positive:  0.6426229508196722\n",
            "True Negative:  0.0737704918032787\n",
            "False Positive:  0.07295081967213116\n",
            "False Negative:  0.21065573770491802\n"
          ],
          "name": "stdout"
        }
      ]
    },
    {
      "cell_type": "code",
      "metadata": {
        "colab": {
          "base_uri": "https://localhost:8080/",
          "height": 264
        },
        "id": "dne6E1U2JrbR",
        "outputId": "b7ada1a4-ba47-47fb-a07b-56703558b95f"
      },
      "source": [
        "### Plot data   \n",
        "train_set, test_set = dataset(full_data, empty_set, test_size)\n",
        "Plot_KNN(train_set)"
      ],
      "execution_count": 34,
      "outputs": [
        {
          "output_type": "display_data",
          "data": {
            "image/png": "[encoded data removed]",
            "text/plain": [
              "<Figure size 432x288 with 1 Axes>"
            ]
          },
          "metadata": {
            "tags": []
          }
        }
      ]
    }
  ]
}